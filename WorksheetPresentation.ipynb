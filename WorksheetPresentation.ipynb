{
  "nbformat": 4,
  "nbformat_minor": 0,
  "metadata": {
    "colab": {
      "provenance": [],
      "authorship_tag": "ABX9TyNY3DjnwznD++i4zQmJgIsT",
      "include_colab_link": true
    },
    "kernelspec": {
      "name": "python3",
      "display_name": "Python 3"
    },
    "language_info": {
      "name": "python"
    }
  },
  "cells": [
    {
      "cell_type": "markdown",
      "metadata": {
        "id": "view-in-github",
        "colab_type": "text"
      },
      "source": [
        "<a href=\"https://colab.research.google.com/github/saokotie/Applied-Machine-Learning/blob/main/WorksheetPresentation.ipynb\" target=\"_parent\"><img src=\"https://colab.research.google.com/assets/colab-badge.svg\" alt=\"Open In Colab\"/></a>"
      ]
    },
    {
      "cell_type": "code",
      "source": [
        "import numpy as np\n",
        "x = np. random.random (10)\n",
        "print(x)\n",
        "y = np. random.random((3, 10))\n",
        "print(y)\n",
        "y = np.random.random((10, 3))\n",
        "print(y)\n",
        "y = np.random.random((3, 3, 3))\n",
        "print(y)\n",
        "y = np.random.random((10, 3))\n",
        "print(y)\n",
        "y.shape\n",
        "y.dtype\n",
        "type(y)\n",
        "y.size\n"
      ],
      "metadata": {
        "colab": {
          "base_uri": "https://localhost:8080/"
        },
        "id": "z81VgXrfcHQd",
        "outputId": "fc72b590-78ad-4f6c-9712-6356878e4547"
      },
      "execution_count": null,
      "outputs": [
        {
          "output_type": "stream",
          "name": "stdout",
          "text": [
            "[0.60010678 0.75141428 0.00622013 0.04442933 0.40848348 0.55039522\n",
            " 0.34110492 0.50986899 0.3332003  0.78217035]\n",
            "[[0.4066583  0.91904094 0.94209656 0.11813116 0.86789799 0.14058854\n",
            "  0.49212419 0.80198139 0.13946631 0.89124943]\n",
            " [0.02320022 0.51568609 0.10455097 0.56747165 0.67322078 0.34322551\n",
            "  0.54595627 0.7151538  0.48680493 0.40406895]\n",
            " [0.77789839 0.49915811 0.78125146 0.54558999 0.80547476 0.81017378\n",
            "  0.8553022  0.33712665 0.71452592 0.22390661]]\n",
            "[[0.9207476  0.44316217 0.28729301]\n",
            " [0.55255389 0.57114981 0.61820217]\n",
            " [0.32473804 0.93710053 0.67972542]\n",
            " [0.14757118 0.60802779 0.84435319]\n",
            " [0.97024991 0.03870634 0.47961091]\n",
            " [0.69189696 0.21836393 0.16762159]\n",
            " [0.06328773 0.76812614 0.48981307]\n",
            " [0.12238475 0.75294008 0.42617197]\n",
            " [0.69862165 0.5448894  0.94081376]\n",
            " [0.89610477 0.30480402 0.77141801]]\n",
            "[[[0.42965827 0.79082047 0.98101553]\n",
            "  [0.59366441 0.92460217 0.59686941]\n",
            "  [0.21996017 0.02635111 0.42467562]]\n",
            "\n",
            " [[0.62516761 0.70858395 0.19435042]\n",
            "  [0.26461076 0.31064063 0.32552341]\n",
            "  [0.15732694 0.79670213 0.71379277]]\n",
            "\n",
            " [[0.67432566 0.15403785 0.98752971]\n",
            "  [0.40983801 0.92009434 0.35786107]\n",
            "  [0.90433515 0.43495823 0.7428951 ]]]\n",
            "[[0.71520535 0.03879376 0.00832695]\n",
            " [0.27291136 0.29129857 0.0406424 ]\n",
            " [0.68648973 0.08868927 0.07263853]\n",
            " [0.99046741 0.68959519 0.39740677]\n",
            " [0.34065796 0.66313295 0.06544631]\n",
            " [0.26962933 0.63512806 0.95297062]\n",
            " [0.46090591 0.95047719 0.46150352]\n",
            " [0.10990991 0.42496328 0.34044849]\n",
            " [0.16259257 0.3939488  0.26505906]\n",
            " [0.36674906 0.16731723 0.52470722]]\n"
          ]
        },
        {
          "output_type": "execute_result",
          "data": {
            "text/plain": [
              "30"
            ]
          },
          "metadata": {},
          "execution_count": 3
        }
      ]
    },
    {
      "cell_type": "code",
      "source": [
        "import numpy as np\n",
        "a = np.zeros(5)\n",
        "b = np.ones(5)\n",
        "c = np.ones(5) * 3\n",
        "d = np.ones((3, 5))\n",
        "e = np.array([[5,5,5,5,5], [1,1,1,1,1], [8,8,8,8,8]])\n",
        "f = np.array([b * 5, b, b * 8])\n",
        "h = np.ones(5, dtype=int)\n",
        "y = np.random.random((10, 3))\n",
        "print(y)         # wholee array\n",
        "print(y[5, 2])  # element\n",
        "print(y[5])     # row\n",
        "print(y[5, :])  # row\n",
        "print(y[:, 2])   # col\n",
        "print(y[4:6, 1:3]) # 2d slice"
      ],
      "metadata": {
        "colab": {
          "base_uri": "https://localhost:8080/"
        },
        "id": "j8Qi6MHtetnS",
        "outputId": "c107d011-5eaf-4f72-8623-0cbac8ebdc55"
      },
      "execution_count": null,
      "outputs": [
        {
          "output_type": "stream",
          "name": "stdout",
          "text": [
            "[[0.50752165 0.63721591 0.30517622]\n",
            " [0.92859609 0.09012058 0.23299168]\n",
            " [0.1716267  0.35012848 0.87942187]\n",
            " [0.95451205 0.25969643 0.04319977]\n",
            " [0.59013455 0.47306906 0.05157321]\n",
            " [0.64817908 0.97704637 0.47861322]\n",
            " [0.42424841 0.13507467 0.14904776]\n",
            " [0.58149529 0.0233585  0.99173491]\n",
            " [0.91114398 0.42870054 0.50084937]\n",
            " [0.62809094 0.72416784 0.41008498]]\n",
            "0.4786132156144375\n",
            "[0.64817908 0.97704637 0.47861322]\n",
            "[0.64817908 0.97704637 0.47861322]\n",
            "[0.30517622 0.23299168 0.87942187 0.04319977 0.05157321 0.47861322\n",
            " 0.14904776 0.99173491 0.50084937 0.41008498]\n",
            "[[0.47306906 0.05157321]\n",
            " [0.97704637 0.47861322]]\n"
          ]
        }
      ]
    },
    {
      "cell_type": "code",
      "source": [
        "y = np.random.random((10, 3))\n",
        "print(y)\n",
        "z = y[4:6, 1:3]\n",
        "print(z)\n",
        "z[0, 0] = 0\n",
        "print(z)\n",
        "print(y)\n"
      ],
      "metadata": {
        "colab": {
          "base_uri": "https://localhost:8080/"
        },
        "id": "d_3T3cALh-lo",
        "outputId": "23587ea6-d20f-4b7c-d85f-df07832209ab"
      },
      "execution_count": null,
      "outputs": [
        {
          "output_type": "stream",
          "name": "stdout",
          "text": [
            "[[0.4469689  0.31001842 0.09864351]\n",
            " [0.92049891 0.16963885 0.69093357]\n",
            " [0.69188749 0.23125166 0.78410711]\n",
            " [0.31509015 0.19136442 0.48389203]\n",
            " [0.63563311 0.2740077  0.231012  ]\n",
            " [0.35333796 0.98554104 0.61520355]\n",
            " [0.0801635  0.65611924 0.33659613]\n",
            " [0.93325967 0.71381438 0.75031048]\n",
            " [0.81088601 0.96037355 0.14594811]\n",
            " [0.48263121 0.97128275 0.58726216]]\n",
            "[[0.2740077  0.231012  ]\n",
            " [0.98554104 0.61520355]]\n",
            "[[0.         0.231012  ]\n",
            " [0.98554104 0.61520355]]\n",
            "[[0.4469689  0.31001842 0.09864351]\n",
            " [0.92049891 0.16963885 0.69093357]\n",
            " [0.69188749 0.23125166 0.78410711]\n",
            " [0.31509015 0.19136442 0.48389203]\n",
            " [0.63563311 0.         0.231012  ]\n",
            " [0.35333796 0.98554104 0.61520355]\n",
            " [0.0801635  0.65611924 0.33659613]\n",
            " [0.93325967 0.71381438 0.75031048]\n",
            " [0.81088601 0.96037355 0.14594811]\n",
            " [0.48263121 0.97128275 0.58726216]]\n"
          ]
        }
      ]
    },
    {
      "cell_type": "code",
      "source": [
        "y = np.random.random ((10, 3))\n",
        "print(y)\n",
        "print(y[0])\n",
        "print(y[0, :])\n",
        "print(y[0:1, :])\n"
      ],
      "metadata": {
        "colab": {
          "base_uri": "https://localhost:8080/"
        },
        "id": "dkAJmf98ilJi",
        "outputId": "18c81e99-c46b-455e-d296-fbe5a577454c"
      },
      "execution_count": null,
      "outputs": [
        {
          "output_type": "stream",
          "name": "stdout",
          "text": [
            "[[0.37540363 0.96412527 0.66346513]\n",
            " [0.75499871 0.99757074 0.02070471]\n",
            " [0.4418079  0.96471098 0.49263591]\n",
            " [0.91934115 0.02802104 0.61420977]\n",
            " [0.31803189 0.24458902 0.16233535]\n",
            " [0.17980403 0.29401991 0.82153601]\n",
            " [0.55579662 0.17970155 0.91180272]\n",
            " [0.7853714  0.72592708 0.22607903]\n",
            " [0.71872291 0.98323709 0.88413943]\n",
            " [0.48391066 0.0828553  0.89617287]]\n",
            "[0.37540363 0.96412527 0.66346513]\n",
            "[0.37540363 0.96412527 0.66346513]\n",
            "[[0.37540363 0.96412527 0.66346513]]\n"
          ]
        }
      ]
    },
    {
      "cell_type": "code",
      "source": [
        "# Scalar operation\n",
        "# np.random.random will generate numbers between 0  and 1 (not including 1).\n",
        "\n",
        "import numpy as np\n",
        "x = np.random.random(10) * 100\n",
        "print(x)\n",
        "y = np.random.random((3, 10)) * 100\n",
        "print(y)"
      ],
      "metadata": {
        "colab": {
          "base_uri": "https://localhost:8080/"
        },
        "id": "7-OyfYIVjIrn",
        "outputId": "a9fa4b3d-6800-4606-ae51-69472dc2edd6"
      },
      "execution_count": null,
      "outputs": [
        {
          "output_type": "stream",
          "name": "stdout",
          "text": [
            "[71.24275866 66.47737837 49.98311185 97.45621253 62.83731603 94.07791472\n",
            "  2.89558443 63.16126675 64.98667943 80.70632958]\n",
            "[[13.51230992 91.49339639 18.39935725 43.14618874 78.18083645 95.99929269\n",
            "  27.29148936 35.56570178 88.76758045 39.07373181]\n",
            " [44.36724071 65.32571785  5.2012684  38.46783382  8.30891515 91.11096869\n",
            "  68.90208958 44.95804889 43.63999232 74.31557291]\n",
            " [33.26135145  7.91128959 44.2076504  70.86977599 86.0542219  36.97736851\n",
            "  50.53092788 31.32728309 99.54454191 15.94738295]]\n"
          ]
        }
      ]
    },
    {
      "cell_type": "code",
      "source": [
        "x = np.random.random((3, 5)) * 10 + 5\n",
        "print(x)\n",
        "y = np.random.random((3, 5)) + 5 * 10\n",
        "print(y)"
      ],
      "metadata": {
        "colab": {
          "base_uri": "https://localhost:8080/"
        },
        "id": "TDkowG7rkhQQ",
        "outputId": "d91043ac-ad07-4f0f-a30a-0b5b6b51da98"
      },
      "execution_count": null,
      "outputs": [
        {
          "output_type": "stream",
          "name": "stdout",
          "text": [
            "[[ 5.19876912  5.58876235  5.80991292  9.91426379 13.96918024]\n",
            " [11.86654181 11.94868015  7.22878445 14.76154606 11.74602061]\n",
            " [ 6.43987911 11.38485161 10.98801156  7.17112166  9.99124345]]\n",
            "[[50.25638259 50.7113973  50.59275636 50.32455639 50.51755313]\n",
            " [50.39735814 50.22561844 50.07308103 50.83370064 50.03192365]\n",
            " [50.07227944 50.00938175 50.60177868 50.40131857 50.92863007]]\n"
          ]
        }
      ]
    },
    {
      "cell_type": "code",
      "source": [
        "temps = np.array([15, 18, 23, 20])\n",
        "f_temps = temps * 9/5 + 32\n",
        "print(f_temps)"
      ],
      "metadata": {
        "colab": {
          "base_uri": "https://localhost:8080/"
        },
        "id": "GvTRyAzXk--g",
        "outputId": "74e9957f-e95c-4113-e64b-c28133d0c08b"
      },
      "execution_count": null,
      "outputs": [
        {
          "output_type": "stream",
          "name": "stdout",
          "text": [
            "[59.  64.4 73.4 68. ]\n"
          ]
        }
      ]
    },
    {
      "cell_type": "code",
      "source": [
        "# Boolean indexing of arrays\n",
        "x = np.array([[1, 2, 3], [4, 5, 6], [7, 8, 9]])\n",
        "print(x < 5)"
      ],
      "metadata": {
        "colab": {
          "base_uri": "https://localhost:8080/"
        },
        "id": "jWG8bjEkljfM",
        "outputId": "2bb03a83-eade-414f-b658-f2b3a92eacf1"
      },
      "execution_count": null,
      "outputs": [
        {
          "output_type": "stream",
          "name": "stdout",
          "text": [
            "[[ True  True  True]\n",
            " [ True False False]\n",
            " [False False False]]\n"
          ]
        }
      ]
    },
    {
      "cell_type": "code",
      "source": [
        "x[x > 5]\n",
        "x[x % 2 == 0]\n",
        "x[x ** 2 < 50]"
      ],
      "metadata": {
        "colab": {
          "base_uri": "https://localhost:8080/"
        },
        "id": "-wauBzi4nxlj",
        "outputId": "40405687-57a5-44a7-d72a-b4032a90d1ea"
      },
      "execution_count": null,
      "outputs": [
        {
          "output_type": "execute_result",
          "data": {
            "text/plain": [
              "array([1, 2, 3, 4, 5, 6, 7])"
            ]
          },
          "metadata": {},
          "execution_count": 7
        }
      ]
    },
    {
      "cell_type": "code",
      "source": [
        "x[x > 5] = 5\n",
        "print(x)"
      ],
      "metadata": {
        "colab": {
          "base_uri": "https://localhost:8080/"
        },
        "id": "W3z-uupBon67",
        "outputId": "82156114-e231-42c2-a804-99603d06ad54"
      },
      "execution_count": null,
      "outputs": [
        {
          "output_type": "stream",
          "name": "stdout",
          "text": [
            "[[1 2 3]\n",
            " [4 5 5]\n",
            " [5 5 5]]\n"
          ]
        }
      ]
    },
    {
      "cell_type": "code",
      "source": [
        "x = np.array([[2,2], [4,4], [3, 5]])\n",
        "y = np.array([[10, 20], [30, 40,], [50, 60]])\n",
        "print(x < 4)\n",
        "print(y[x < 4])"
      ],
      "metadata": {
        "colab": {
          "base_uri": "https://localhost:8080/"
        },
        "id": "cbbJBBcAo6_d",
        "outputId": "e23773ac-d892-4a01-d5d5-1611cbbfe3b1"
      },
      "execution_count": null,
      "outputs": [
        {
          "output_type": "stream",
          "name": "stdout",
          "text": [
            "[[ True  True]\n",
            " [False False]\n",
            " [ True False]]\n",
            "[10 20 50]\n"
          ]
        }
      ]
    },
    {
      "cell_type": "code",
      "source": [
        "x = np.random.random((10, 5))\n",
        "np.sum(x, 0)\n",
        "np.sum(x, 1)\n",
        "np.sum(x)"
      ],
      "metadata": {
        "colab": {
          "base_uri": "https://localhost:8080/"
        },
        "id": "sycxw2jJtywK",
        "outputId": "1e147d17-ca0f-41ba-a646-51d0850c9550"
      },
      "execution_count": null,
      "outputs": [
        {
          "output_type": "execute_result",
          "data": {
            "text/plain": [
              "np.float64(29.357804916806053)"
            ]
          },
          "metadata": {},
          "execution_count": 11
        }
      ]
    },
    {
      "cell_type": "code",
      "source": [
        "import numpy as np\n",
        "import matplotlib. pyplot as plt\n",
        "a = np. fromfile(\" megt90n000cb. img\", dtype= ' >i2 ' )\n",
        "\n"
      ],
      "metadata": {
        "id": "GicMrMWpxi89"
      },
      "execution_count": null,
      "outputs": []
    }
  ]
}